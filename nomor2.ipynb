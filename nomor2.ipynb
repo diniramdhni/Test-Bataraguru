{
 "cells": [
  {
   "cell_type": "code",
   "execution_count": 36,
   "metadata": {},
   "outputs": [
    {
     "name": "stdout",
     "output_type": "stream",
     "text": [
      "5538-4-7\n"
     ]
    }
   ],
   "source": [
    "def genap(ch):\n",
    "    return ((ord(ch) - 48) & 1)\n",
    "def Insert_dash(num_str):\n",
    "    result_str = num_str\n",
    "    x = 0\n",
    "    while(x < len(num_str) - 1):\n",
    "        if (genap(num_str[x]) and\n",
    "            genap(num_str[x + 1])):\n",
    "            result_str = (result_str[:x - 1] + '-' + result_str[x - 1:])\n",
    "            num_str = result_str\n",
    "            x += 1\n",
    "        x += 1\n",
    "    return result_str\n",
    "str = \"553847\"\n",
    "print(Insert_dash(str))"
   ]
  },
  {
   "cell_type": "code",
   "execution_count": null,
   "metadata": {},
   "outputs": [],
   "source": []
  }
 ],
 "metadata": {
  "kernelspec": {
   "display_name": "Python 3",
   "language": "python",
   "name": "python3"
  },
  "language_info": {
   "codemirror_mode": {
    "name": "ipython",
    "version": 3
   },
   "file_extension": ".py",
   "mimetype": "text/x-python",
   "name": "python",
   "nbconvert_exporter": "python",
   "pygments_lexer": "ipython3",
   "version": "3.8.3"
  }
 },
 "nbformat": 4,
 "nbformat_minor": 4
}
