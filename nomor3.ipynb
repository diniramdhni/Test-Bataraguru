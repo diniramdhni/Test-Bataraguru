{
 "cells": [
  {
   "cell_type": "code",
   "execution_count": 9,
   "metadata": {},
   "outputs": [
    {
     "name": "stdout",
     "output_type": "stream",
     "text": [
      "([()]) - true\n",
      "{{)) - false\n",
      "({[])) - false\n"
     ]
    }
   ],
   "source": [
    "open_braces = [\"[\",\"{\",\"(\"]\n",
    "close_braces = [\"]\",\"}\",\")\"]\n",
    "string = \"([()])\"\n",
    "print(string,\"-\", check(string))\n",
    "string = \"{{))\"\n",
    "print(string,\"-\", check(string))\n",
    "string = \"({[]))\"\n",
    "print(string,\"-\",check(string))\n",
    "def check(braces_Str):\n",
    "    stack = []\n",
    "    for i in braces_Str:\n",
    "        if i in open_list:\n",
    "            stack.append(i)\n",
    "        elif i in close_list:\n",
    "            pos = close_list.index(i)\n",
    "            if ((len(stack) > 0) and (open_list[pos] == stack[len(stack)-1])):\n",
    "                stack.pop()\n",
    "            else: return \"false\"\n",
    "    if len(stack) == 0:\n",
    "        return \"true\"\n",
    "    else: return \"true\""
   ]
  },
  {
   "cell_type": "code",
   "execution_count": null,
   "metadata": {},
   "outputs": [],
   "source": []
  }
 ],
 "metadata": {
  "kernelspec": {
   "display_name": "Python 3",
   "language": "python",
   "name": "python3"
  },
  "language_info": {
   "codemirror_mode": {
    "name": "ipython",
    "version": 3
   },
   "file_extension": ".py",
   "mimetype": "text/x-python",
   "name": "python",
   "nbconvert_exporter": "python",
   "pygments_lexer": "ipython3",
   "version": "3.8.3"
  }
 },
 "nbformat": 4,
 "nbformat_minor": 4
}
